{
  "nbformat": 4,
  "nbformat_minor": 0,
  "metadata": {
    "colab": {
      "name": "gameShisima.ipynb",
      "provenance": [],
      "collapsed_sections": [
        "TvrTupCFsQ-j",
        "eprhk0ffv2BI",
        "12XGyORyOqoT",
        "Yf19P5T5LA3Y",
        "DJvYhG6YbAQR"
      ],
      "mount_file_id": "1KEuvTWmID8OSBOaVMVKQYYa5WEFKV-pz",
      "authorship_tag": "ABX9TyOdzRvP+YxNZCoZJQ4gn2da",
      "include_colab_link": true
    },
    "kernelspec": {
      "name": "python3",
      "display_name": "Python 3"
    },
    "accelerator": "GPU",
    "widgets": {
      "application/vnd.jupyter.widget-state+json": {
        "f21fa10cf37749f7a7b94acdc135055d": {
          "model_module": "@jupyter-widgets/controls",
          "model_name": "VBoxModel",
          "state": {
            "_view_name": "VBoxView",
            "_dom_classes": [
              "widget-interact"
            ],
            "_model_name": "VBoxModel",
            "_view_module": "@jupyter-widgets/controls",
            "_model_module_version": "1.5.0",
            "_view_count": null,
            "_view_module_version": "1.5.0",
            "box_style": "",
            "layout": "IPY_MODEL_c4bdd4b146d04073978c71adf3aefa63",
            "_model_module": "@jupyter-widgets/controls",
            "children": [
              "IPY_MODEL_f5e3bc0bf0874b3284d27a9070e3ea16",
              "IPY_MODEL_b08cb1ca351d4dd0a5c64d4a92cb8d74"
            ]
          }
        },
        "c4bdd4b146d04073978c71adf3aefa63": {
          "model_module": "@jupyter-widgets/base",
          "model_name": "LayoutModel",
          "state": {
            "_view_name": "LayoutView",
            "grid_template_rows": null,
            "right": null,
            "justify_content": null,
            "_view_module": "@jupyter-widgets/base",
            "overflow": null,
            "_model_module_version": "1.2.0",
            "_view_count": null,
            "flex_flow": null,
            "width": null,
            "min_width": null,
            "border": null,
            "align_items": null,
            "bottom": null,
            "_model_module": "@jupyter-widgets/base",
            "top": null,
            "grid_column": null,
            "overflow_y": null,
            "overflow_x": null,
            "grid_auto_flow": null,
            "grid_area": null,
            "grid_template_columns": null,
            "flex": null,
            "_model_name": "LayoutModel",
            "justify_items": null,
            "grid_row": null,
            "max_height": null,
            "align_content": null,
            "visibility": null,
            "align_self": null,
            "height": null,
            "min_height": null,
            "padding": null,
            "grid_auto_rows": null,
            "grid_gap": null,
            "max_width": null,
            "order": null,
            "_view_module_version": "1.2.0",
            "grid_template_areas": null,
            "object_position": null,
            "object_fit": null,
            "grid_auto_columns": null,
            "margin": null,
            "display": null,
            "left": null
          }
        },
        "f5e3bc0bf0874b3284d27a9070e3ea16": {
          "model_module": "@jupyter-widgets/controls",
          "model_name": "IntSliderModel",
          "state": {
            "_view_name": "IntSliderView",
            "style": "IPY_MODEL_1a79896674c6495b82410fa43c328cbe",
            "_dom_classes": [],
            "description": "frame",
            "step": 1,
            "_model_name": "IntSliderModel",
            "orientation": "horizontal",
            "max": 7,
            "_view_module": "@jupyter-widgets/controls",
            "_model_module_version": "1.5.0",
            "value": 3,
            "_view_count": null,
            "disabled": false,
            "_view_module_version": "1.5.0",
            "min": 0,
            "continuous_update": true,
            "readout_format": "d",
            "description_tooltip": null,
            "readout": true,
            "_model_module": "@jupyter-widgets/controls",
            "layout": "IPY_MODEL_14513a935a604b35a775d65e478a4b12"
          }
        },
        "b08cb1ca351d4dd0a5c64d4a92cb8d74": {
          "model_module": "@jupyter-widgets/output",
          "model_name": "OutputModel",
          "state": {
            "_view_name": "OutputView",
            "msg_id": "",
            "_dom_classes": [],
            "_model_name": "OutputModel",
            "outputs": [],
            "_view_module": "@jupyter-widgets/output",
            "_model_module_version": "1.0.0",
            "_view_count": null,
            "_view_module_version": "1.0.0",
            "layout": "IPY_MODEL_05be753f0389496eaf7b41027435dacd",
            "_model_module": "@jupyter-widgets/output"
          }
        },
        "1a79896674c6495b82410fa43c328cbe": {
          "model_module": "@jupyter-widgets/controls",
          "model_name": "SliderStyleModel",
          "state": {
            "_view_name": "StyleView",
            "handle_color": null,
            "_model_name": "SliderStyleModel",
            "description_width": "",
            "_view_module": "@jupyter-widgets/base",
            "_model_module_version": "1.5.0",
            "_view_count": null,
            "_view_module_version": "1.2.0",
            "_model_module": "@jupyter-widgets/controls"
          }
        },
        "14513a935a604b35a775d65e478a4b12": {
          "model_module": "@jupyter-widgets/base",
          "model_name": "LayoutModel",
          "state": {
            "_view_name": "LayoutView",
            "grid_template_rows": null,
            "right": null,
            "justify_content": null,
            "_view_module": "@jupyter-widgets/base",
            "overflow": null,
            "_model_module_version": "1.2.0",
            "_view_count": null,
            "flex_flow": null,
            "width": null,
            "min_width": null,
            "border": null,
            "align_items": null,
            "bottom": null,
            "_model_module": "@jupyter-widgets/base",
            "top": null,
            "grid_column": null,
            "overflow_y": null,
            "overflow_x": null,
            "grid_auto_flow": null,
            "grid_area": null,
            "grid_template_columns": null,
            "flex": null,
            "_model_name": "LayoutModel",
            "justify_items": null,
            "grid_row": null,
            "max_height": null,
            "align_content": null,
            "visibility": null,
            "align_self": null,
            "height": null,
            "min_height": null,
            "padding": null,
            "grid_auto_rows": null,
            "grid_gap": null,
            "max_width": null,
            "order": null,
            "_view_module_version": "1.2.0",
            "grid_template_areas": null,
            "object_position": null,
            "object_fit": null,
            "grid_auto_columns": null,
            "margin": null,
            "display": null,
            "left": null
          }
        },
        "05be753f0389496eaf7b41027435dacd": {
          "model_module": "@jupyter-widgets/base",
          "model_name": "LayoutModel",
          "state": {
            "_view_name": "LayoutView",
            "grid_template_rows": null,
            "right": null,
            "justify_content": null,
            "_view_module": "@jupyter-widgets/base",
            "overflow": null,
            "_model_module_version": "1.2.0",
            "_view_count": null,
            "flex_flow": null,
            "width": null,
            "min_width": null,
            "border": null,
            "align_items": null,
            "bottom": null,
            "_model_module": "@jupyter-widgets/base",
            "top": null,
            "grid_column": null,
            "overflow_y": null,
            "overflow_x": null,
            "grid_auto_flow": null,
            "grid_area": null,
            "grid_template_columns": null,
            "flex": null,
            "_model_name": "LayoutModel",
            "justify_items": null,
            "grid_row": null,
            "max_height": null,
            "align_content": null,
            "visibility": null,
            "align_self": null,
            "height": null,
            "min_height": null,
            "padding": null,
            "grid_auto_rows": null,
            "grid_gap": null,
            "max_width": null,
            "order": null,
            "_view_module_version": "1.2.0",
            "grid_template_areas": null,
            "object_position": null,
            "object_fit": null,
            "grid_auto_columns": null,
            "margin": null,
            "display": null,
            "left": null
          }
        }
      }
    }
  },
  "cells": [
    {
      "cell_type": "markdown",
      "metadata": {
        "id": "view-in-github",
        "colab_type": "text"
      },
      "source": [
        "<a href=\"https://colab.research.google.com/github/gatofeles/Trabalhos-SI202/blob/master/gameShisima.ipynb\" target=\"_parent\"><img src=\"https://colab.research.google.com/assets/colab-badge.svg\" alt=\"Open In Colab\"/></a>"
      ]
    },
    {
      "cell_type": "markdown",
      "metadata": {
        "id": "KBsd0XUJfATi"
      },
      "source": [
        "# **Shisima**"
      ]
    },
    {
      "cell_type": "markdown",
      "metadata": {
        "id": "Gkn2sFKzfMhL"
      },
      "source": [
        "##**O tabuleiro**"
      ]
    },
    {
      "cell_type": "markdown",
      "metadata": {
        "id": "PrHtlWBlmwEW"
      },
      "source": [
        "O tabuleiro deste jogo é um octágono em que os vértices opostos são interligados por linhas diagonais. Não é possível aumentar o tabuleiro deste jogo pois o único resultado disto seria o prolongamento da partida e não haveria nenhum desafio extra para estratégias. A imagem abaixo ilustra o tabuleiro.\n",
        "\n",
        "![tabuleiroShisima.jpg](data:image/jpeg;base64,/9j/4AAQSkZJRgABAQAAAQABAAD/2wCEAAkGBxISEhUSEg8WFRUVEhUXFhUWFRcXFhYaFxgXGhcVFhUYHyggGCEmHxkWITchJSkrLi4uGB8zODMtNygtLisBCgoKDg0OGhAQGC8fHR0tLS0tLS0rKy0rLS0tLSstLS0rLSstNy0rNy0tNysrKzcrKy0tOCstKy0rKy0rLSsrK//AABEIAL0BCwMBIgACEQEDEQH/xAAbAAEBAAIDAQAAAAAAAAAAAAAABgEFAwQHAv/EAEUQAAICAQEFBQIJBwwDAQAAAAECAAMEEQUGEiExEyJBUWFxgRQyNUJSVXKRsgcVFoKSlNMjJDNDRFNik6GxwdJjg9E0/8QAGQEBAAMBAQAAAAAAAAAAAAAAAAECAwQF/8QAHBEBAQEBAQADAQAAAAAAAAAAAAECEQMSITEE/9oADAMBAAIRAxEAPwD3GIiAiIgIiICIiAiIgIiICIiAiYJnV2htGqhDZdalaDqzsFH3mB19u7Zrxa+0fUksFVB8Z2PRR/qdTyABkbdvjmE6olCj6JWxz73DL/tNVvLvHTm5VZpZmqrqfhco6I7Mw4zWWA4xoq8xy5+s4Jx+/tqa5Gmcyxd7r72LlMaXTs71Xi4NdVdfpIeWvUajqNZTCeK2ZpoyMW5UZmFwHCg1dlIIYKvzuXhPUNhb0YmXqKLwXHxqm1S1ftVNow+6b+O7vParqcrdRMazM1VIiICIiAiIgIiICIiAiIgIiICIiAiIgIiICY1nX2jmJTU9rnRa0ZmPoBrPMc/bGRknje2xFPNaq7GRVHgGKEFz7eXkB45+npMT7TJ16trMzyPE23k4h7RLXtrHN6rHZwV8eBmJKH36ekqMfeLPzAGwcIVVMNRk5Taag+KUJ3m95WMek3Pos4snbTmToJM52/OKrmqkvlXD+rxkNmh8mcdxPe04F3J7Y8W0My3LP91qacYeyhDo36xMpcDZ9VCCumpK0HRUUKo9wmiEyRtfL69ls+s+A0yMnT28q0P7XvnZ2duPiIwtuD5VwOva5Tm5gfNQ3dT2KBpKeIE1vju38LrXs2CXVEmpiO7z04kbTop0H3DynnOQuZVYtFuBZ2r8XAEKstnDpxFWB005jrpPa5K7f+U9nfZzPwVzPflnf6tNWNVubujctwzMwBXVSKqQQez15F2I172nl01lNtrdjEy9DdQpcfFtXuWr6raujD75uBMy2czM5Feo381bTxP/AM2UMysdKcs8NoHkmSg/Ep9s58TfikMKsyuzCtOgC5A0Rj5JeNa2+/WVc6+ZhV2qUtrV0YaFXUMp9oMsOZHBAIIII1BB1B98+pH2bltQePZ2XZin+5OtuK3oaWPc/UImDvPl4vLaGCQg/tOLxXVaeb16cdfn84esCw1jWeX7S3ktyiWrteugnuCtijuOnG7jvDXwUEaDrOjRnZNB46Miwkf1dlj2Vt6FXJ09o5znv9GJeL/C869fiavdrbC5dCXqNOLUMv0WB0ZT7D/xNpOhQiIgIiICIiAiIgIiICIiAiIgaDfrHezAyFQEtwBtB1IRlcqB6gEe+ecYtyuoZTqCAZ7HYwAJJAAB1Pp4zyrY+6Vmb22Zj5Hwaq29zRX2fGhrHIWacQ042DMNOWhEw9vK7/Fs64120L1St2Y8gp9/I8hPSNwcR6tn4yWAhhXqQeo4mLBfcCB7pOV/kyDqfhWZZY2nc7NeyVG6q4Gp4iCByPKbjd/bltdvwHP0F4H8lcBw15SjxTycDqnvEePlcT7TrXVZERN1CIiAkrt/5T2d9nL/AAVyqkrt/wCU9nfZy/wVwKkTMwJmAiIgJ1NqUl6bEB0LVuoPqVIE7c0+8u36sOsO+rOzcFVSc7LnPREXx9vQdTA8q2S+tagjRlHCy+KleRBHtE7bsACTyA669Juk3CyL+PKtyfg+Vc3GyVoGprGmioV5FyBpq2o1M1O8O6NmKld+Xldvji+tchEQ1Bam1XtC3ESQrFSend1nFr+bV00+ap/JNSww3sIIF2TZYgP0CEUH38JPvlrOLHrVVCooCgAKANAAOgAHhOWdknJxmRESQiIgIiICIiAiIgIiICIny50GsCU38ymdasCliLcxyhI6pSvO+z07vdB83EpsLFWpFrRQqIiqqjwVRoBJXc7XKvv2kw7rsaMX0orJ1f2u/E32QssYCaveDYdWZUarR0IZHB0etx8WxGHMEGbSIEjsHbltFwwM863HXsMgDRMpR4f4bQOq+PMj0rQZrtvbFpy6TTcuqnmCDoyMPiujdVYeBmh2Jtq7GuXB2g3E7a/B8nTRMgD5reC2gdR49R46BYREQEldv/Kezvs5f4K5VSV2/wDKezvs5f4K4FSJmYEzARE0m8+8SYaL3WsusPDTQmnaWufADwA6ljyA1MD63m3hrw6wWDPY7cFNKc7LXPRVH+56Ac5r92937O0ObmstmW66KBzrxkP9VV6+b9SfQTO7W77rYczMYWZdg05f0eOh59jSD0A8W6sZTgQAE620sFL6npsXiSxGRgfEMNDO1BgS+4Ge7Y7Y951vxLDj2H6fCAa7B6MhU+3XylRI/aw+CbSpyelWWoxrvIWLxNRYfLXvJ71lesDMREBERAREQEREBERAREQElN/cpmSvBpbhuzW7MEdUqHO+z00TUA+bCVTSP3RX4Xk37TPxW/m+L5djWdWsA8ON9Tr4hFgVWDiJVWlVahUrRUUDwVQAB9wnPEQEREBNdtzY9OXU1FycSNp05MpHMMrDmrA6EEeU2MQI3Y+2LsS5MHPfi4zpjZZ5LcB0qtPRbQPc3UeUsQZ0dtbJqyqmpvQOjDmPEEcwynwIPMESa2TtW7BtTCznL1ueHFyz/WeVV5HJbP8AFyDe2BaSV2/8p7O+zl/grlSDJbb/AMp7O+zl/grgVImZiaLebeJcYJWiG3JuOlFC/Gc+LMfmoPFj/vA+t5t4VxVVQhtvtPDRQunHY3v6KOpbwAnV3Z3edHbLy3FuZaNGYfEpXr2FAPRR59W6mZ3Y3cNLNlZL9rmWgdpZpota9RTSPmoPvJ5mUgEDMREBERA1O9OxxmYtuOToXXut4o6kFHB8CGAM4tztsHKxK7XGlg1ruX6NtZ4LF/aB+8TdGSGOPge1Gr6U7QXtF8hkVL/KL6cVYVv1DAsIiICIiAiIgIiICIiAms27turFQNYSSx0RFGrudNdAPD2nQCbIzy/e7IL7QtU9Kq61UejAOxHtJA/VEz9N/HPU5na5N5d7cq/Htpqx1r7ReHjFxLqrcmIHBpxcOunPTWV+6G0ca3HVMYcK0hazWRo1fCBopHs8RyM88nzsbadmNnIaaHvNtTq9NZUM3D3g/fIHLQ+PiZz+XvrV5VtZkj2OJJ/pVl/UWX+3jfxY/SjM+osr/Nxf4s7FFZEk/wBKM36iyv8ANxf4kx+k+b9RZP8AnYv8SBWxJL9J876hyP8APxf4kwd58/6hyP8APxf4kCunS2tsyrJqam6sPW40ZT/uPIjwPhJ79J9ofUF/7xi/94G8u0PqG735ON/3ga+vbN+zGGLkK+RWVb4JcDq7cOmtN5PQgEfyniPXrp9obayrb6cnWpWo7TgTgZl0sADBmLAt0HMaTj3i2lfdlp8Iw2xuGj+TR7EcnVu+wKEgdE9eQnBOP39tZ1yfTTOZzqjr/KCWXshiM2ax4a6F1KP/AOTtNNFQDmdeY6c5u92N3DQXvvs7bLtA7W7TkB4VVA/EQeXvM85XKsqy8V6Kjbb2jAVhgvGpUhhxHkOWp5+Uvf0g2l9Rt+90/wDydHlu7z2qanKrIkn+ftp/Un35lX/WDt3an1IP32v/AKzRCsiSX582r9SJ+/J/DmDtva/hsSv356f8VGBXRJH89bY+pav39f4Uz+edr/U1P7+P4MCsYzzvfjbS5AFWOAbKb0sXIJ0RHrbvKoHN9RxKeg5nnO1tzbu1lx7WbZdVQFT62Lm8bKNObBRUOIjrpqOklMVQEUDpwjSYe/rcScWzOqzC3+KsBlUCtCdO1Riyr6upUFR6jWW9VgYAg6ggEEeR6Tx+1AVII5Ec5cfkyyGfZ9XF8wuin/CjkL9w5e6R4et33prMn4q4iJ0KkREBERAREQEh9+t3bXcZeMnG6rwWVdDYo5gqenEOY08QR5aS4mCJXWZqcpLx4dZtXhIRse4WMeFazWwZm0+KBpzPX7pb7hbs3V2NmZS8FrLwV1ciakOhOp6an/j1m6342S+Rit2PK+pluoPlbWdVHsbmp9GM2G7+1EyserITpagbTxBI5qfUHUe6Z48c4vYtdWtgBMxE2VNJjSZiBiJmICYMyZNbzbxNU64uKna5do7ifMqX++uI+Ko8upPKBpfylhLmoopBfO4taVX5iEjtHuPzK+Q5nxHLWS+Ti51VteO+GDZbxdmVtXgfg5sdTppoCOunWek7sburiqzu/bZFujX5DDvWMOgA+ag5gKOk6W3vlPZ32cv8Fcz35Z191M1YlNj4dmzstMnaSDgtTs67kYmvHdjoUt5cuIaAP06jxnqisDOHMw67UauxFdHUqysNQQeoIkZj5NmyHWm92fAdgtN7Es2MT0qubxr8nPTkD5y8kk5C3q7ifKNrzB1B6GfUlBERAREQOPIpV1KMNVYEEHoQRoRPJNrbBysAsBS9+ONStic3RfKxOvIfOHLl4T1+SP5QbTYlOBWSHzbRWSOq0p3729NUXg183lN4m/1MvENs3Z+XnqoopeqqwA/CLBwrwnxrU831HTTl6z1nYuzUxqK6KxotaBRr1OnUn1J1PvnZx6FRVRRoqqFAHQADQD7pyxjzmPwt6RES6CIiAiIgIiICIiBgyQ3c/mmdkYJ5V3a5eP5DjOl9a+x9G/8AZLCSn5QMdkrrzql1twrO10HV6j3b6wPHVCTp5qIFXE4cPJWxEsQ6q6KykeIYAg/cROaAiIgImCZMby7wWCwYWEofLdddW/o8dD/W3H79F6k+nOBnebeF0dcPDUW5li6gH+joX++vI6DyXqxHtI7e7G7qYisSxtvtPFfe3x7X8/8ACo8FHIT63a3erw0YBjZbY3Hdc/N7X8WY+A8gOQHSbkCAEltv/Kezvs5f4K5VSV2/8p7O+zl/grgVInFlYy2KyOgZWBDKw1BB6gicomYEJTbZsdgljM+zmICWElmwyeldhPM1a6aN1XXny6XFbggEHUHmCOh9QZ85FCupVlDKwIII1BB6ggyIQvsZuEln2axGh+M+ET4Hzp9fmezoF5E+KrAyhlIIIBBHMEHoQfGfcBERAwZH7t/zvOyc480qJxMfyIQ632L7X7v/AK5s999qvjYjtVzusK1UDzttPCnuGvEfRTO3u5slcXGqx15iusKT9JtO8x9p1MDZxEQEREBERAREQEREBERAT4sQEEEagjQjzB8J9xAj9xHNDX7Oc88WzWn1xrSWq/ZPEn6nrLCSG+Q+DX420h8WpuwyNPGm4gBj9hyra+RaVquIH1MExxSU3h29a9vwHA0bJI1tsI1rxUPz306v9FPHx5QPreLeC02/AcEB8phq7NzrxkP9bb6/RTqfZNju1u9Vh1lUJd3bjttfnZa56u5/46AchPrdzYFWHV2derMxLWWudbLXPxndvEny6AaATbwEREBJXb/yns77OX+CuVUldv8Ayns77OX+CuBUiZmBMwE+LawwKkAggggjkQeoM+4gQjK+xn1HE+zWbmOrYRJ6jxNPp832dLbHvV1DqwZWAIYHUEHoQZ9WICCCAQRoQehHkZD3VPsdjZWGfZzMTZWAWbDJOpsrHU1dSV5lfDl0C7iay/b2MiJY+QgWwAoeIHjB56qBzPunSv3xwlptuGQjCqtnZQdG0UfRPP0kdg113872qq9atnpxn1yLQQo/Vr1PtcSwEnNwdmvTihrh/L5DHIvP/ks0PD7FAVR6LKSSEREBERAREQEREBERAREQEREDQ77ZNaYdwsTjWxOzCH55s7oX/XXXwAnmyVMURbrXuKIq6uxI7oA5IO6Pu185dflLoY4naKCextSxgPo8wx92uvukTVYGAYHUHnOP+nVnJGmI4rdq5WKjfB8gqjaKwfWwVqSA1lSk8mAJIHQ9J6ju1sSnEpCU6txd97GOr2s3M2O3Vif9J5Ht+3SlkUFns7iIBqzM3IADxnpm6u82LaiY63cN1daq1NoNdw4QATwPoSNfEazT+fVuftG/1TxGsToUIiICSu3/AJT2d9nL/BXKqSu3/lPZ32cv8FcCpEzMCZgIiICdLbOWtNFtrDVa6ncjzCqSR79J3NZOb6bYxEotoyMhVN1VlYRe/a3EpXuVrqzHn5QPN9m4yomoRVLEsQo5DiJbhX6KjXoJnaOCtylWGp6g+II5gzg2dm90V2qarVUapYCjc+h0bznJnbQVBoO+55Ii82Zj0AAnmWa+Tb649Q3K2u2ViV3Ppx80fTkOJCVJ09dNffN9J/cbZDYmHXVZ/Sd57PIM7FiB7NdPdKCelPz7YkREkIiICIiAiIgIiICIiAiIgfLoCCCNQRoQens0kRtD8nFRYtjZNmOCSSi6PXz8lPxfYDpLmJFzL+iV3f3HoxnFzM99w6WWadzz4FHJT159efWbbbG72LlqFyMdLNPisV76nzRx3lPsM2kRJJ+CN/R/PxDrhZ3bVjpjZhL6eiZI76+xg0+6N+ErIr2hjWYL/Ss72OfDu5Cjh0+1wn0ldpOO7HVwVdQynqrDUH2g8jJGab1cBkYMp6FSCD7CJyCSN249dZL7Pvswn68NXeoY/wCPHbufs6GfH5/z8Tlm4XbVj+04mr+98c99f1eKBYFpEbwbZxhtLBJyatKxlCw8a6IWVOEOddF19Zr95t76srgoxLwyFS15UkMOei0sOqa6HUcjoPWaRawBwgADpoBoPuE5/X3mLzi8x17BXaCNQQQehBBB98+55Ju9t4bPvAst4cW0EEHXhrfqGUeGp5aDrqJVLvLmZXLAwWCH+05etVftSrTjf36Ca43NzsVs5Vc9oA1JAA8Ty/3kvmb8UFjVh12Zto1HDjgGsEeD3nStPvnHXuWbjxbRy7Ms669lzqxh6ClD3v1yZUYmHXUoSqtUQcgqKFUewCXQlPzXtPL55GUMOo9acXVrSPJsptOH9RQfWbjYu62Ji6tTQoc/GtbV7W9WtbVj983OkzA1m1t38bK0+EY6WFfisR3l+y45j3GcOyt1sPGbjpxkV+nHpxPp5Bm1IHoJuYkcgwBMxEkIiICIiAiIgIiICIiAiIgIiICIiAiIgIiICYImYgeb/lGwOxuTMVAK2Xs7mA+KQdUdtPDmw18NBNGlqkahgR568vvnsF1KuCrKCCNCCNQR5EeMlbvyd7NZuL4MRz1KrbaqfsKwA92k5/Xw+d7F5vk4jt2MY5efVwrrVjE2WPp3eLTREB8TqdfQAz14Tq7O2fVQgrprWtB0VRoPb6n1nbmuMfCcVt6RES6CIiAiIgIiICIiAiIgIiIH/9k=)"
      ]
    },
    {
      "cell_type": "markdown",
      "metadata": {
        "id": "4MyvlBxDmSk6"
      },
      "source": [
        "##**Regras do Jogo**"
      ]
    },
    {
      "cell_type": "markdown",
      "metadata": {
        "id": "1-HhU_T-e1Lt"
      },
      "source": [
        "**Movimentação das peças**\n",
        "\n",
        "Neste jogo, o posicionamento das peças é limitado aos vértices de um octágono sendo que a movimentação acontece a partir das arestas e das linhas que interligam cada vértice oposto. Também é possível posicionar as peças no centro do octágono. A imagem abaixo ilustra o tabuleiro e os possíveis posicionamentos das peças. Em cada turno um jogador realiza um movimento, sendo possível mover a peça para um ponto adjacente. Não há possibilidade de pular casas ou jogadas consecutivas.\n",
        "\n",
        "![shisima.jpeg](data:image/jpeg;base64,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)"
      ]
    },
    {
      "cell_type": "markdown",
      "metadata": {
        "id": "X2jZ0-QWkx2x"
      },
      "source": [
        "**Condições de Vitória**\n",
        "\n",
        "Ganha o jogo o jogador que conseguir colocar três peças da mesma cor em uma fileira, como indicado nas figuras b e c na imagem abaixo. Caso a mesma jogada seja repetida 3 vezes durante o jogo, o jogo termina em empate.\n",
        "\n",
        "\n",
        "![shisima.jpeg](data:image/jpeg;base64,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)"
      ]
    },
    {
      "cell_type": "markdown",
      "metadata": {
        "id": "kEoLCOY6Mu6F"
      },
      "source": [
        "###Reperesentação do tabuleiro\n",
        "Jogadores com peças brancas são representados por 1 e jogadores com peças pretas são representados por -1. Os pontoa vagos são representados por 0 e o tabuleiro possui 9 espaços.\n",
        "\n"
      ]
    },
    {
      "cell_type": "code",
      "metadata": {
        "id": "Z9Yk0xFHMs1v"
      },
      "source": [
        "import random\n",
        "emptyBoard = (0,0,0,0,0,0,0,0,0)\n",
        "initialBoard = (0,1,1,1,0,-1,-1,-1,0)\n",
        "winnerBoard = (1, 1, 1, -1, 0, 0, 0, -1, -1)"
      ],
      "execution_count": 33,
      "outputs": []
    },
    {
      "cell_type": "markdown",
      "metadata": {
        "id": "8i72BMQKNAEi"
      },
      "source": [
        "###Vencedor\n",
        "Vence o jogador que obtiver a combinação de peças posição n, posição n+4 e posição 9 (centro)."
      ]
    },
    {
      "cell_type": "code",
      "metadata": {
        "id": "BPGZTfjJNUgE"
      },
      "source": [
        "def winner(board):\n",
        "\n",
        "  whiteList = []\n",
        "  blackList = []\n",
        "\n",
        "  for i in range(9):\n",
        "    if board[i] == 1:\n",
        "      whiteList.append(i)\n",
        "    elif board[i] == -1:\n",
        "      blackList.append(i)\n",
        "  \n",
        "  if whiteList[2] == 8 and whiteList[0] == (whiteList[1] - 4):\n",
        "    return True, 1\n",
        "\n",
        "  elif blackList[2] == 8 and blackList[0] == (blackList[1] - 4):\n",
        "    return True, -1\n",
        "\n",
        "  else:\n",
        "    return False, 0"
      ],
      "execution_count": 90,
      "outputs": []
    },
    {
      "cell_type": "code",
      "metadata": {
        "id": "s_aqnBoDNiWF",
        "outputId": "2ffc6e5e-4fff-4b97-d7d4-dd2488d981a8",
        "colab": {
          "base_uri": "https://localhost:8080/"
        }
      },
      "source": [
        "winner(initialBoard)"
      ],
      "execution_count": 7,
      "outputs": [
        {
          "output_type": "execute_result",
          "data": {
            "text/plain": [
              "(False, 0)"
            ]
          },
          "metadata": {
            "tags": []
          },
          "execution_count": 7
        }
      ]
    },
    {
      "cell_type": "markdown",
      "metadata": {
        "id": "XRW-ZUWDN5Lk"
      },
      "source": [
        "###Jogadas válidas\n",
        "Jogadas válidas são aquelas de campos adjacentes desocupados."
      ]
    },
    {
      "cell_type": "code",
      "metadata": {
        "id": "AUU2_M3mN9kD"
      },
      "source": [
        "def validMoves(board):\n",
        "  \n",
        "  validWhite = []\n",
        "  validBlack = []\n",
        "\n",
        "  for i in range(len(board)):\n",
        "\n",
        "    validTempWhite = []\n",
        "    validTempBlack = []\n",
        "\n",
        "################################################################################\n",
        "#\n",
        "#Verificando Jogadas válidas das peças brancas\n",
        "#\n",
        "################################################################################\n",
        "\n",
        "### Caso 0\n",
        "    if board[i] == 1 and i == 0:\n",
        "      validTempWhite.append(i)\n",
        "\n",
        "      if board[7] == 0:\n",
        "        validTempWhite.append(7)\n",
        "      else:\n",
        "        validTempWhite.append(-2)\n",
        "\n",
        "      if board[1] == 0:\n",
        "        validTempWhite.append(1)\n",
        "      else:\n",
        "        validTempWhite.append(-2)\n",
        "        \n",
        "      if board[8] == 0:\n",
        "        validTempWhite.append(8)\n",
        "      else:\n",
        "        validTempWhite.append(-2)\n",
        "      \n",
        "      validWhite.append(validTempWhite)\n",
        "\n",
        "\n",
        "################################################################################\n",
        "\n",
        "### Caso geral\n",
        "    if board[i] == 1 and (i >= 1 and i < 7):\n",
        "      validTempWhite.append(i)\n",
        "\n",
        "      if board[i-1] == 0:\n",
        "        validTempWhite.append(i-1)\n",
        "      else:\n",
        "        validTempWhite.append(-2)\n",
        "\n",
        "      if board[i+1] == 0:\n",
        "          validTempWhite.append(i+1)\n",
        "      else:\n",
        "        validTempWhite.append(-2)\n",
        "       \n",
        "      if board[8] == 0:\n",
        "        validTempWhite.append(8)\n",
        "      else:\n",
        "        validTempWhite.append(-2)\n",
        "\n",
        "      validWhite.append(validTempWhite)\n",
        "\n",
        "################################################################################\n",
        "\n",
        "### Caso 7\n",
        "    if board[i] == 1 and i == 7:\n",
        "      validTempWhite.append(i)\n",
        "\n",
        "      if board[6] == 0:\n",
        "        validTempWhite.append(6)\n",
        "      else:\n",
        "        validTempWhite.append(-2)\n",
        "\n",
        "      if board[0] == 0:\n",
        "        validTempWhite.append(0)\n",
        "      else:\n",
        "        validTempWhite.append(-2)\n",
        "\n",
        "      if board[8] == 0:\n",
        "        validTempWhite.append(8)\n",
        "      else:\n",
        "        validTempWhite.append(-2)\n",
        "      \n",
        "      validWhite.append(validTempWhite)\n",
        "\n",
        "################################################################################\n",
        "\n",
        "###Caso Centro\n",
        "    if board[i] == 1 and i == 8:\n",
        "      validTempWhite.append(i)\n",
        "      for j in range(len(board)-1):\n",
        "        if board[j] == 0:\n",
        "          validTempWhite.append(j)\n",
        "        else:\n",
        "          validTempWhite.append(-2)\n",
        "\n",
        "      validWhite.append(validTempWhite)\n",
        "\n",
        "\n",
        "################################################################################\n",
        "#\n",
        "#Verificando Jogadas válidas das peças pretas\n",
        "#\n",
        "################################################################################\n",
        " \n",
        "###Caso Geral  \n",
        "    if board[i] == -1 and (i >= 1 and i < 7):\n",
        "      validTempBlack.append(i)\n",
        "\n",
        "      if board[i-1] == 0:\n",
        "        validTempBlack.append(i-1)\n",
        "      else:\n",
        "        validTempBlack.append(-2)\n",
        "\n",
        "      if board[i+1] == 0:\n",
        "          validTempBlack.append(i+1)\n",
        "      else:\n",
        "        validTempBlack.append(-2)\n",
        "       \n",
        "      if board[8] == 0:\n",
        "        validTempBlack.append(8)\n",
        "      else:\n",
        "        validTempBlack.append(-2)\n",
        "\n",
        "      validBlack.append(validTempBlack)\n",
        "\n",
        "################################################################################\n",
        "\n",
        "###Caso 7\n",
        "    if board[i] ==-1 and i == 7:\n",
        "      validTempBlack.append(i)\n",
        "\n",
        "      if board[6] == 0:\n",
        "        validTempBlack.append(6)\n",
        "      else:\n",
        "        validTempBlack.append(-2)\n",
        "\n",
        "      if board[0] == 0:\n",
        "        validTempBlack.append(0)\n",
        "      else:\n",
        "        validTempBlack.append(-2)\n",
        "\n",
        "      if board[8] == 0:\n",
        "        validTempBlack.append(8)\n",
        "      else:\n",
        "        validTempBlack.append(-2)\n",
        "      \n",
        "      validBlack.append(validTempBlack)   \n",
        "\n",
        "################################################################################\n",
        "\n",
        "###Caso 0\n",
        "    if board[i] == -1 and i == 0:\n",
        "      validTempBlack.append(i)\n",
        "\n",
        "      if board[7] == 0:\n",
        "        validTempBlack.append(7)\n",
        "      else:\n",
        "        validTempBlack.append(-2)\n",
        "\n",
        "      if board[1] == 0:\n",
        "        validTempBlack.append(1)\n",
        "      else:\n",
        "        validTempBlack.append(-2)\n",
        "        \n",
        "      if board[8] == 0:\n",
        "        validTempBlack.append(8)\n",
        "      else:\n",
        "        validTempBlack.append(-2)\n",
        "      \n",
        "      validBlack.append(validTempBlack)\n",
        "\n",
        "################################################################################\n",
        "\n",
        "###Caso Centro\n",
        "    if board[i] == -1 and i == 8:\n",
        "      validTempBlack.append(i)\n",
        "      for j in range(len(board)-1):\n",
        "        if board[j] == 0:\n",
        "          validTempBlack.append(j)\n",
        "        else:\n",
        "          validTempBlack.append(-2)\n",
        "              \n",
        "      validBlack.append(validTempBlack)  \n",
        "\n",
        "################################################################################\n",
        "  validWhite.extend(validBlack)\n",
        "\n",
        "  return validWhite"
      ],
      "execution_count": 34,
      "outputs": []
    },
    {
      "cell_type": "code",
      "metadata": {
        "id": "KEbKOtdW0FAV",
        "outputId": "6d580d3b-95ee-4dcb-dca8-e08f253ce352",
        "colab": {
          "base_uri": "https://localhost:8080/"
        }
      },
      "source": [
        "validMoves(initialBoard)"
      ],
      "execution_count": 35,
      "outputs": [
        {
          "output_type": "execute_result",
          "data": {
            "text/plain": [
              "[[1, 0, -2, 8],\n",
              " [2, -2, -2, 8],\n",
              " [3, -2, 4, 8],\n",
              " [5, 4, -2, 8],\n",
              " [6, -2, -2, 8],\n",
              " [7, -2, 0, 8]]"
            ]
          },
          "metadata": {
            "tags": []
          },
          "execution_count": 35
        }
      ]
    },
    {
      "cell_type": "markdown",
      "metadata": {
        "id": "tbRwJhcUHBoQ"
      },
      "source": [
        "###Jogador Aleatório\n",
        "\n",
        "O jogador aleatório devera ser capaz de olhar para as peças e entender quais são seus graus de liberdade a partir da matriz de jogadas válidas retornada pela função de jogadas válidas."
      ]
    },
    {
      "cell_type": "code",
      "metadata": {
        "id": "fF2pveBFHu8M"
      },
      "source": [
        "def Player(board, turn):\n",
        "\n",
        "  pieceMove = []\n",
        "  moves = validMoves(board)\n",
        "  finalMoveTurn = []\n",
        "\n",
        "################################################################################\n",
        "# Vez das Brancas\n",
        "################################################################################\n",
        "\n",
        "  if turn == 1:\n",
        "    \n",
        "      options = []\n",
        "      while len(options) <= 0:\n",
        "        pieceMove = []\n",
        "        options = []\n",
        "\n",
        "        chosenPiece = random.choice([moves[0][0], moves[1][0], moves[2][0]])\n",
        "\n",
        "        for i in range(len(moves)):\n",
        "          if chosenPiece == moves[i][0]:\n",
        "            pieceMove.append(chosenPiece)\n",
        "\n",
        "            for j in range(1,len(moves[i])):\n",
        "              if moves[i][j] != -2:\n",
        "                options.append(moves[i][j])\n",
        "\n",
        "      chosenMove = random.choice(options)\n",
        "      pieceMove.append(chosenMove)\n",
        "    \n",
        "      finalMoveTurn.extend(pieceMove)\n",
        "      finalMoveTurn.append(turn)\n",
        "    \n",
        "      return finalMoveTurn\n",
        "\n",
        "################################################################################\n",
        "# Vez das Pretas\n",
        "################################################################################\n",
        "  if turn == -1:\n",
        "      options = []\n",
        "\n",
        "      while len(options) <= 0:\n",
        "        pieceMove = []\n",
        "        options = []\n",
        "\n",
        "        chosenPiece = random.choice([moves[3][0], moves[4][0], moves[5][0]])\n",
        "\n",
        "        for i in range(len(moves)):\n",
        "          if chosenPiece == moves[i][0]:\n",
        "            pieceMove.append(chosenPiece)\n",
        "\n",
        "            for j in range(1,len(moves[i])):\n",
        "              if moves[i][j] != -2:\n",
        "                options.append(moves[i][j])\n",
        "\n",
        "      chosenMove = random.choice(options)\n",
        "      pieceMove.append(chosenMove)\n",
        "    \n",
        "      finalMoveTurn.extend(pieceMove)\n",
        "      finalMoveTurn.append(turn)\n",
        "    \n",
        "      return finalMoveTurn\n"
      ],
      "execution_count": 36,
      "outputs": []
    },
    {
      "cell_type": "code",
      "metadata": {
        "id": "taKOJfNBRll-",
        "outputId": "5e28e8e5-3024-4e9c-adc4-81f79b8dc0e8",
        "colab": {
          "base_uri": "https://localhost:8080/"
        }
      },
      "source": [
        "Player(initialBoard, -1)"
      ],
      "execution_count": 72,
      "outputs": [
        {
          "output_type": "execute_result",
          "data": {
            "text/plain": [
              "[5, 4, -1]"
            ]
          },
          "metadata": {
            "tags": []
          },
          "execution_count": 72
        }
      ]
    },
    {
      "cell_type": "markdown",
      "metadata": {
        "id": "1oOLqq9ZMUUJ"
      },
      "source": [
        "###***Jogador Humano***"
      ]
    },
    {
      "cell_type": "markdown",
      "metadata": {
        "id": "npJUE2UKMpo8"
      },
      "source": [
        "A função receberá o tabuleira e passará as jogadas possíveis para o jogador humano."
      ]
    },
    {
      "cell_type": "code",
      "metadata": {
        "id": "zRIrbkrBMzee"
      },
      "source": [
        "def humanPlayer(board, turn):\n",
        "\n",
        "  pieceMove = []\n",
        "  moves = validMoves(board)\n",
        "  finalMoveTurn = []\n",
        "  rightChoise = False\n",
        "  badChoise = True\n",
        "  compChosenPiece = []\n",
        "  humanPossibleMoves = []\n",
        "\n",
        "  ##Escolher peça que deseja mover\n",
        "\n",
        "  if turn == 1:\n",
        "\n",
        "    drawPiecesToHumans(board, True, False, turn)\n",
        "\n",
        "    while not(rightChoise) and badChoise:\n",
        "     \n",
        "\n",
        "      humanChosenPiece = int(input(\"Escolha qual peça deseja mover.\\n Aperte:\\n 1) Para peça 1\\n 2) Para peça 2\\n 3) Para peça 3\\n\"))\n",
        "\n",
        "      if humanChosenPiece == 1:\n",
        "        compChosenPiece = moves[0]\n",
        "        rightChoise = True\n",
        "      elif humanChosenPiece == 2:\n",
        "        compChosenPiece = moves[1]\n",
        "        rightChoise = True\n",
        "      elif humanChosenPiece == 3:\n",
        "        compChosenPiece = moves[2]\n",
        "        rightChoise = True\n",
        "      \n",
        "      for possibilities in compChosenPiece:\n",
        "        if possibilities != -2:\n",
        "          badChoise = False\n",
        "\n",
        "      if not(rightChoise) or badChoise:\n",
        "        badChoise = True\n",
        "        rightChoise = False\n",
        "        print(\"Jogada inválida ou peça sem liberdade de movitação. Escolha novamente.\")\n",
        "\n",
        " \n",
        "    rightChoise = False\n",
        "\n",
        "    print(\"Ótima jogada! Agora escolha para onde deseja mover sua peça:\")\n",
        "    drawPiecesToHumans(board, False, True, turn)\n",
        "\n",
        "    print(\"\\nJogadas validas:\")\n",
        "    for i in range(1,len(compChosenPiece)):\n",
        "      if compChosenPiece[i] != -2:\n",
        "        print(\"\\nAperte \" + str(compChosenPiece[i])+ \" Para mover a peça para a posição \"+str(compChosenPiece[i])+\".\")\n",
        "        humanPossibleMoves.append(compChosenPiece[i])\n",
        "    \n",
        "    \n",
        "    while not(rightChoise):\n",
        "      humanMove = int(input(\"Faça sua escolha: \"))\n",
        "      if humanMove in humanPossibleMoves:\n",
        "        rightChoise = True\n",
        "      else:\n",
        "        print(\"Escolha inválida. Tente novamente.\")\n",
        "    \n",
        "    return [moves[humanChosenPiece-1][0], humanMove, turn]\n",
        "\n",
        "\n",
        "  if turn == -1:\n",
        "\n",
        "    drawPiecesToHumans(board, True, False, turn)\n",
        "\n",
        "    while not(rightChoise) and badChoise:\n",
        "     \n",
        "\n",
        "      humanChosenPiece = int(input(\"Escolha qual peça deseja mover.\\n Aperte:\\n 1) Para peça 1\\n 2) Para peça 2\\n 3) Para peça 3\\n\"))\n",
        "\n",
        "      if humanChosenPiece == 1:\n",
        "        compChosenPiece = moves[3]\n",
        "        rightChoise = True\n",
        "      elif humanChosenPiece == 2:\n",
        "        compChosenPiece = moves[4]\n",
        "        rightChoise = True\n",
        "      elif humanChosenPiece == 3:\n",
        "        compChosenPiece = moves[5]\n",
        "        rightChoise = True\n",
        "      \n",
        "      for possibilities in compChosenPiece:\n",
        "        if possibilities != -2:\n",
        "          badChoise = False\n",
        "\n",
        "      if not(rightChoise) or badChoise:\n",
        "        badChoise = True\n",
        "        rightChoise = False\n",
        "        print(\"Jogada inválida ou peça sem liberdade de movitação. Escolha novamente.\")\n",
        "\n",
        " \n",
        "    rightChoise = False\n",
        "\n",
        "    print(\"Ótima jogada! Agora escolha para onde deseja mover sua peça:\")\n",
        "    drawPiecesToHumans(board, False, True, turn)\n",
        "\n",
        "    print(\"\\nJogadas validas:\")\n",
        "    for i in range(1,len(compChosenPiece)):\n",
        "      if compChosenPiece[i] != -2:\n",
        "        print(\"Aperte \" + str(compChosenPiece[i])+ \" Para mover a peça para a posição \"+str(compChosenPiece[i])+\".\")\n",
        "        humanPossibleMoves.append(compChosenPiece[i])\n",
        "    \n",
        "    \n",
        "    while not(rightChoise):\n",
        "      humanMove = int(input(\"Faça sua escolha: \"))\n",
        "      if humanMove in humanPossibleMoves:\n",
        "        rightChoise = True\n",
        "      else:\n",
        "        print(\"Escolha inválida. Tente novamente.\")\n",
        "    \n",
        "    return [moves[humanChosenPiece+2][0], humanMove, turn]\n",
        "  ##Escolher para onde quer mover a peça\n"
      ],
      "execution_count": 105,
      "outputs": []
    },
    {
      "cell_type": "code",
      "metadata": {
        "id": "qQ4tfpfQb-2D",
        "outputId": "fca55253-721c-4599-ab9a-8a49ecacc6d4",
        "colab": {
          "base_uri": "https://localhost:8080/",
          "height": 1000
        }
      },
      "source": [
        "humanPlayer(initialBoard, -1)"
      ],
      "execution_count": 68,
      "outputs": [
        {
          "output_type": "display_data",
          "data": {
            "image/png": "[encoded data removed]",
            "text/plain": [
              "<PIL.Image.Image image mode=RGB size=500x500 at 0x7FA3F9430780>"
            ]
          },
          "metadata": {
            "tags": []
          }
        },
        {
          "output_type": "stream",
          "text": [
            "Escolha qual peça deseja mover.\n",
            " Aperte:\n",
            " 1) Para peça 1\n",
            " 2) Para peça 2\n",
            " 3) Para peça 3\n",
            "3\n",
            "Ótima jogada! Agora escolha para onde deseja mover sua peça:\n"
          ],
          "name": "stdout"
        },
        {
          "output_type": "display_data",
          "data": {
            "image/png": "[encoded data removed]",
            "text/plain": [
              "<PIL.Image.Image image mode=RGB size=500x500 at 0x7FA3F942BB00>"
            ]
          },
          "metadata": {
            "tags": []
          }
        },
        {
          "output_type": "stream",
          "text": [
            "Aperte0 Para mover a peça para a posição 0.\n",
            "Aperte8 Para mover a peça para a posição 8.\n",
            "Faça sua escolha: 0\n"
          ],
          "name": "stdout"
        },
        {
          "output_type": "execute_result",
          "data": {
            "text/plain": [
              "[3, 0, -1]"
            ]
          },
          "metadata": {
            "tags": []
          },
          "execution_count": 68
        }
      ]
    },
    {
      "cell_type": "markdown",
      "metadata": {
        "id": "TvrTupCFsQ-j"
      },
      "source": [
        "###***Gerenciador do Jogo Entre Bots***"
      ]
    },
    {
      "cell_type": "code",
      "metadata": {
        "id": "43J-xz7Xsy2L"
      },
      "source": [
        "def Game():\n",
        "\n",
        "  gameBoard = (0,1,1,1,0,-1,-1,-1,0)\n",
        "  turn = 1\n",
        "  history = []\n",
        "  draw = False\n",
        "  result = []\n",
        "\n",
        "  while not(winner(gameBoard)[0]) and not(draw):\n",
        "     ### Jogada \n",
        "\n",
        "    position = Player(gameBoard, turn)    \n",
        "\n",
        "     ### Atualização do tabuleiro\n",
        "    listBoard = list(gameBoard)\n",
        "    listBoard[position[0]] = 0\n",
        "    listBoard[position[1]] = position[2]\n",
        "    gameBoard  = tuple(listBoard)  \n",
        "\n",
        "     ### Registro no histórico\n",
        "    history.append(gameBoard)\n",
        "    gameWinner = winner(gameBoard)[1]\n",
        "\n",
        "     ### verifica empate\n",
        "\n",
        "     ### vira o turno\n",
        "    turn *= -1\n",
        "  result.append(gameWinner)\n",
        "  result.append(history)\n",
        "  return result\n"
      ],
      "execution_count": 40,
      "outputs": []
    },
    {
      "cell_type": "code",
      "metadata": {
        "id": "KaDBVwa35oAZ",
        "outputId": "052a8664-d696-4a06-d1a8-798b4ca722e1",
        "colab": {
          "base_uri": "https://localhost:8080/"
        }
      },
      "source": [
        "redVictory = 0\n",
        "blueVictory = 0\n",
        "\n",
        "for i in range(5000):\n",
        "  if Game()[0] == -1:\n",
        "    blueVictory += 1\n",
        "  elif Game()[0] == 1:\n",
        "     redVictory += 1\n",
        "\n",
        "print(\"Vitória das vermelhas:\", redVictory,\"vezes. \\nVitória das azuis:\", blueVictory,\"vezes.\")\n",
        "\n",
        "\n"
      ],
      "execution_count": 77,
      "outputs": [
        {
          "output_type": "stream",
          "text": [
            "Vitória das vermelhas: 1245 vezes. \n",
            "Vitória das azuis: 2540 vezes.\n"
          ],
          "name": "stdout"
        }
      ]
    },
    {
      "cell_type": "markdown",
      "metadata": {
        "id": "eprhk0ffv2BI"
      },
      "source": [
        "###***Gerenciador do Jogo entre Humanos e Bots***"
      ]
    },
    {
      "cell_type": "code",
      "metadata": {
        "id": "4Q3LqV_lv_B4"
      },
      "source": [
        "def humanGame():\n",
        "\n",
        "  gameBoard = (0,1,1,1,0,-1,-1,-1,0)\n",
        "  turn = 1\n",
        "  history = []\n",
        "  draw = False\n",
        "  result = []\n",
        "  humanTurn = True\n",
        "  colorChoise = 0\n",
        "\n",
        "  while colorChoise != 1 and colorChoise != 2:\n",
        "    colorChoise = int(input(\"Quer jogar com qual cor de peças?\\n1) Azuis\\n2) Vermelhas\\n\"))\n",
        "    if colorChoise != 1 and colorChoise != 2:\n",
        "      print(\"Entrada inválida. Escolha uma entrada válida.\")\n",
        "    elif colorChoise == 1:\n",
        "      humanTurn = not(humanTurn)\n",
        "\n",
        "\n",
        "  while not(winner(gameBoard)[0]) and not(draw):\n",
        "     ### Jogada \n",
        "\n",
        "    if humanTurn:\n",
        "      position = humanPlayer(gameBoard, turn)\n",
        "      humanTurn = not(humanTurn)\n",
        "\n",
        "    else:\n",
        "      position = Player(gameBoard, turn)\n",
        "      humanTurn = not(humanTurn)\n",
        "\n",
        "\n",
        "     ### Atualização do tabuleiro\n",
        "    listBoard = list(gameBoard)\n",
        "    listBoard[position[0]] = 0\n",
        "    listBoard[position[1]] = position[2]\n",
        "    gameBoard  = tuple(listBoard)\n",
        "   \n",
        "\n",
        "     ### Registro no histórico\n",
        "    history.append(gameBoard)\n",
        "    gameWinner = winner(gameBoard)[1]\n",
        "   \n",
        "\n",
        "     ### verifica empate\n",
        "\n",
        "     ### vira o turno\n",
        "    turn *= -1\n",
        "\n",
        "\n",
        "  if turn == 1:\n",
        "    print(\"\\nVemelhas venceram!!!!!\\n\")\n",
        "  else:\n",
        "    print(\"\\nAzuis Venceram!!!!!\\n\")\n",
        "  \n",
        "  print(\"Tabuleiro Vencedor\")\n",
        "  drawPieces(gameBoard)\n",
        "\n",
        "  result.append(gameWinner)\n",
        "  result.append(history)\n",
        "  return result"
      ],
      "execution_count": 88,
      "outputs": []
    },
    {
      "cell_type": "markdown",
      "metadata": {
        "id": "12XGyORyOqoT"
      },
      "source": [
        "###***Interface Gráfica***\n",
        "Octágono equilátero\n"
      ]
    },
    {
      "cell_type": "code",
      "metadata": {
        "id": "fC6OHH2ZO8rk",
        "outputId": "449f430e-c717-4766-c167-c162dfb3cf11",
        "colab": {
          "base_uri": "https://localhost:8080/",
          "height": 517
        }
      },
      "source": [
        "from PIL import Image, ImageDraw, ImageFont\n",
        "import math\n",
        "\n",
        "board = Image.new('RGB', (500, 500),  (178,178,178))\n",
        "\n",
        "draw  = ImageDraw.Draw(board)\n",
        "\n",
        "\n",
        "d = 230\n",
        "coordinates = []\n",
        "\n",
        "\n",
        "for angle in range(0, 360, 45):\n",
        "  rx = d*math.cos(math.pi*angle/180)\n",
        "  ry = d*math.sin(math.pi*angle/180)\n",
        "  coordinates.append([250 - rx,250 - ry])\n",
        "\n",
        "\n",
        "for i in range(len(coordinates)):\n",
        "  draw.line( (250, 250, coordinates[i][0], coordinates[i][1]), \n",
        "            fill = \"black\", width = 3 )\n",
        "  for j in range(1, len(coordinates)):\n",
        "    if j == i+1 or (j == 7 and i == 0) :\n",
        "      draw.line( (coordinates[i][0], coordinates[i][1], coordinates[j][0], \n",
        "                  coordinates[j][1]), fill = \"black\", width = 3 )\n",
        "      \n",
        "\n",
        "      \n",
        "draw.ellipse([coordinates[0][0]-10, coordinates[0][1]- 20, coordinates[0][0]+20, coordinates[0][1]+20], width=25, outline = \"red\")\n",
        "\n",
        "display(board)\n",
        "\n"
      ],
      "execution_count": 43,
      "outputs": [
        {
          "output_type": "display_data",
          "data": {
            "image/png": "[encoded data removed]",
            "text/plain": [
              "<PIL.Image.Image image mode=RGB size=500x500 at 0x7FA3F94552B0>"
            ]
          },
          "metadata": {
            "tags": []
          }
        }
      ]
    },
    {
      "cell_type": "markdown",
      "metadata": {
        "id": "Yf19P5T5LA3Y"
      },
      "source": [
        "###***Desenhar Peças***\n",
        "Peças circulares brancas e pretas"
      ]
    },
    {
      "cell_type": "code",
      "metadata": {
        "id": "8sPnCCWyK_vd"
      },
      "source": [
        "def drawPieces(gameBoard):\n",
        "  from PIL import Image, ImageDraw, ImageFont\n",
        "  import math\n",
        "\n",
        "###Desenho do tabuleiro\n",
        "  board = Image.new('RGB', (500, 500),  (158,137,70))\n",
        "\n",
        "  draw  = ImageDraw.Draw(board)\n",
        "\n",
        "  d = 230\n",
        "  coordinates = []\n",
        "\n",
        "  for angle in range(0, 360, 45):\n",
        "    rx = d*math.cos(math.pi*angle/180)\n",
        "    ry = d*math.sin(math.pi*angle/180)\n",
        "    coordinates.append([250 - rx,250 - ry])\n",
        "  \n",
        "  coordinates.append([250,250])\n",
        "\n",
        "  for i in range(len(coordinates)):\n",
        "    draw.line( (250, 250, coordinates[i][0], coordinates[i][1]), \n",
        "              fill = \"black\", width = 3 )\n",
        "    for j in range(1, len(coordinates)):\n",
        "      if j == i+1 or (j == 7 and i == 0) :\n",
        "        draw.line( (coordinates[i][0], coordinates[i][1], coordinates[j][0], \n",
        "                    coordinates[j][1]), fill = \"black\", width = 3 )\n",
        "###Desenho das peças\n",
        "  for i in range(len(gameBoard)):\n",
        "    \n",
        "    if gameBoard[i] == 1:\n",
        "      draw.ellipse([coordinates[i][0]-10, coordinates[i][1]- 20, coordinates[i][0]+20, coordinates[i][1]+20], width=25, outline = \"red\")\n",
        "    \n",
        "    if gameBoard[i] == -1:\n",
        "      draw.ellipse([coordinates[i][0]-10, coordinates[i][1]- 20, coordinates[i][0]+20, coordinates[i][1]+20], width=25, outline = \"blue\")\n",
        "  \n",
        "  \n",
        "    \n",
        "  display(board)\n"
      ],
      "execution_count": 44,
      "outputs": []
    },
    {
      "cell_type": "code",
      "metadata": {
        "id": "g8d_F-ocSjeI",
        "outputId": "dc1ae63c-15b7-49a9-f00b-9c6b08273b90",
        "colab": {
          "base_uri": "https://localhost:8080/",
          "height": 517
        }
      },
      "source": [
        "drawPieces((1, 1, 1, -1, 0, 0, 0, -1, -1))"
      ],
      "execution_count": 26,
      "outputs": [
        {
          "output_type": "display_data",
          "data": {
            "image/png": "[encoded data removed]",
            "text/plain": [
              "<PIL.Image.Image image mode=RGB size=500x500 at 0x7FA3F942BE10>"
            ]
          },
          "metadata": {
            "tags": []
          }
        }
      ]
    },
    {
      "cell_type": "markdown",
      "metadata": {
        "id": "L6a38np6iWUD"
      },
      "source": [
        "###***Desenhar Peças para Humanos***"
      ]
    },
    {
      "cell_type": "code",
      "metadata": {
        "id": "dEXWBR3siugD"
      },
      "source": [
        "def drawPiecesToHumans(gameBoard, pieceTurn, boardTurn, turn):\n",
        "  from PIL import Image, ImageDraw, ImageFont\n",
        "  import math\n",
        "\n",
        "  fntPieces = ImageFont.truetype(\"/Itim-Regular.ttf\", 20)\n",
        "  fntBoard = ImageFont.truetype(\"/Itim-Regular.ttf\", 40)\n",
        "  roxo = (34, 6, 138)\n",
        "\n",
        "###Desenho do tabuleiro\n",
        "  board = Image.new('RGB', (500, 500),  (158,137,70))\n",
        "\n",
        "  draw  = ImageDraw.Draw(board)\n",
        "\n",
        "  d = 230\n",
        "  coordinates = []\n",
        "\n",
        "  for angle in range(0, 360, 45):\n",
        "    rx = d*math.cos(math.pi*angle/180)\n",
        "    ry = d*math.sin(math.pi*angle/180)\n",
        "    coordinates.append([250 - rx,250 - ry])\n",
        "  \n",
        "  coordinates.append([250,250])\n",
        "\n",
        "  for i in range(len(coordinates)):\n",
        "    draw.line( (250, 250, coordinates[i][0], coordinates[i][1]), \n",
        "              fill = \"black\", width = 3 )\n",
        "    for j in range(1, len(coordinates)):\n",
        "      if j == i+1 or (j == 7 and i == 0) :\n",
        "        draw.line( (coordinates[i][0], coordinates[i][1], coordinates[j][0], \n",
        "                    coordinates[j][1]), fill = \"black\", width = 3 )\n",
        "\n",
        "###Desenho das peças\n",
        "  numberWhite = 1\n",
        "  numberBlack = 1\n",
        "  for i in range(len(gameBoard)):\n",
        "    \n",
        "    \n",
        "    if gameBoard[i] == 1:\n",
        "      draw.ellipse([coordinates[i][0]-10, coordinates[i][1]- 20, coordinates[i][0]+20, coordinates[i][1]+20], width=25, outline = \"red\")\n",
        "      if pieceTurn and turn == 1:\n",
        "        draw.multiline_text((coordinates[i][0],coordinates[i][1]-20), str(numberWhite), font=fntPieces, fill=(0, 0, 0))\n",
        "        numberWhite += 1\n",
        "    \n",
        "    if gameBoard[i] == -1:\n",
        "      draw.ellipse([coordinates[i][0]-10, coordinates[i][1]- 20, coordinates[i][0]+20, coordinates[i][1]+20], width=25, outline = \"blue\")\n",
        "      if pieceTurn and turn == -1:\n",
        "        draw.multiline_text((coordinates[i][0],coordinates[i][1]-20), str(numberBlack), font=fntPieces, fill=(0, 0, 0))\n",
        "        numberBlack += 1\n",
        "\n",
        "###Numeros no Tabuleiro\n",
        "  if boardTurn:\n",
        "    placingNumbers = 0\n",
        "    for i in range(len(coordinates)):\n",
        "      draw.multiline_text((coordinates[i][0],coordinates[i][1]-20), str(placingNumbers), font=fntBoard, fill=roxo)\n",
        "      placingNumbers += 1\n",
        "  \n",
        "\n",
        "  display(board)\n",
        "  \n"
      ],
      "execution_count": 102,
      "outputs": []
    },
    {
      "cell_type": "code",
      "metadata": {
        "id": "NZOgixHvlWwP",
        "outputId": "18926356-e2d2-4a99-c698-5e292a91c875",
        "colab": {
          "base_uri": "https://localhost:8080/",
          "height": 517
        }
      },
      "source": [
        "drawPiecesToHumans(winnerBoard, False, True)"
      ],
      "execution_count": 28,
      "outputs": [
        {
          "output_type": "display_data",
          "data": {
            "image/png": "[encoded data removed]",
            "text/plain": [
              "<PIL.Image.Image image mode=RGB size=500x500 at 0x7FA3F9430F60>"
            ]
          },
          "metadata": {
            "tags": []
          }
        }
      ]
    },
    {
      "cell_type": "markdown",
      "metadata": {
        "id": "DJvYhG6YbAQR"
      },
      "source": [
        "###***Partida Completa Entre Bots***"
      ]
    },
    {
      "cell_type": "code",
      "metadata": {
        "id": "Nf3RHLOzbNPt"
      },
      "source": [
        "from ipywidgets import interact\n",
        "\n",
        "def display_sequence(images) :\n",
        "    def _show(frame=(0, len(images)-1)) :\n",
        "        return images[frame]\n",
        "    return interact(_show)"
      ],
      "execution_count": 46,
      "outputs": []
    },
    {
      "cell_type": "code",
      "metadata": {
        "id": "DhYTtHifbHf-"
      },
      "source": [
        "def generate_image_history(history) :\n",
        "    image_history = []\n",
        "    for i in range(len(history)) :\n",
        "        image_history.append( drawPieces( history[i] ) )\n",
        "    return image_history"
      ],
      "execution_count": 47,
      "outputs": []
    },
    {
      "cell_type": "code",
      "metadata": {
        "id": "ODzvlgSwbcVu",
        "outputId": "de62f1a0-aebb-4503-a042-318e35b26a8b",
        "colab": {
          "base_uri": "https://localhost:8080/",
          "height": 1000,
          "referenced_widgets": [
            "f21fa10cf37749f7a7b94acdc135055d",
            "c4bdd4b146d04073978c71adf3aefa63",
            "f5e3bc0bf0874b3284d27a9070e3ea16",
            "b08cb1ca351d4dd0a5c64d4a92cb8d74",
            "1a79896674c6495b82410fa43c328cbe",
            "14513a935a604b35a775d65e478a4b12",
            "05be753f0389496eaf7b41027435dacd"
          ]
        }
      },
      "source": [
        "history = Game()[1]\n",
        "images = generate_image_history(history)\n",
        "display_sequence(images)\n"
      ],
      "execution_count": 48,
      "outputs": [
        {
          "output_type": "display_data",
          "data": {
            "image/png": "[encoded data removed]",
            "text/plain": [
              "<PIL.Image.Image image mode=RGB size=500x500 at 0x7FA3F9430F98>"
            ]
          },
          "metadata": {
            "tags": []
          }
        },
        {
          "output_type": "display_data",
          "data": {
            "image/png": "[encoded data removed]",
            "text/plain": [
              "<PIL.Image.Image image mode=RGB size=500x500 at 0x7FA3F9430B38>"
            ]
          },
          "metadata": {
            "tags": []
          }
        },
        {
          "output_type": "display_data",
          "data": {
            "image/png": "[encoded data removed]",
            "text/plain": [
              "<PIL.Image.Image image mode=RGB size=500x500 at 0x7FA3F9430F98>"
            ]
          },
          "metadata": {
            "tags": []
          }
        },
        {
          "output_type": "display_data",
          "data": {
            "image/png": "[encoded data removed]",
            "text/plain": [
              "<PIL.Image.Image image mode=RGB size=500x500 at 0x7FA3F9430B38>"
            ]
          },
          "metadata": {
            "tags": []
          }
        },
        {
          "output_type": "display_data",
          "data": {
            "image/png": "[encoded data removed]",
            "text/plain": [
              "<PIL.Image.Image image mode=RGB size=500x500 at 0x7FA3F9430F98>"
            ]
          },
          "metadata": {
            "tags": []
          }
        },
        {
          "output_type": "display_data",
          "data": {
            "image/png": "[encoded data removed]",
            "text/plain": [
              "<PIL.Image.Image image mode=RGB size=500x500 at 0x7FA3F9430B38>"
            ]
          },
          "metadata": {
            "tags": []
          }
        },
        {
          "output_type": "display_data",
          "data": {
            "image/png": "[encoded data removed]",
            "text/plain": [
              "<PIL.Image.Image image mode=RGB size=500x500 at 0x7FA3F9430F98>"
            ]
          },
          "metadata": {
            "tags": []
          }
        },
        {
          "output_type": "display_data",
          "data": {
            "image/png": "[encoded data removed]",
            "text/plain": [
              "<PIL.Image.Image image mode=RGB size=500x500 at 0x7FA3F9430B38>"
            ]
          },
          "metadata": {
            "tags": []
          }
        },
        {
          "output_type": "display_data",
          "data": {
            "application/vnd.jupyter.widget-view+json": {
              "model_id": "f21fa10cf37749f7a7b94acdc135055d",
              "version_minor": 0,
              "version_major": 2
            },
            "text/plain": [
              "interactive(children=(IntSlider(value=3, description='frame', max=7), Output()), _dom_classes=('widget-interac…"
            ]
          },
          "metadata": {
            "tags": []
          }
        },
        {
          "output_type": "execute_result",
          "data": {
            "text/plain": [
              "<function __main__.display_sequence.<locals>._show>"
            ]
          },
          "metadata": {
            "tags": []
          },
          "execution_count": 48
        }
      ]
    },
    {
      "cell_type": "markdown",
      "metadata": {
        "id": "7K194dOQvVNZ"
      },
      "source": [
        "#***Partida Completa entre Bots e Humanos***"
      ]
    },
    {
      "cell_type": "code",
      "metadata": {
        "id": "N83ypo4ovllz",
        "outputId": "9c800c0d-99ba-41bc-d422-f9a55a55a3bc",
        "colab": {
          "base_uri": "https://localhost:8080/",
          "height": 527
        }
      },
      "source": [
        "humanGame()"
      ],
      "execution_count": 107,
      "outputs": [
        {
          "output_type": "error",
          "ename": "KeyboardInterrupt",
          "evalue": "ignored",
          "traceback": [
            "\u001b[0;31m---------------------------------------------------------------------------\u001b[0m",
            "\u001b[0;31mKeyboardInterrupt\u001b[0m                         Traceback (most recent call last)",
            "\u001b[0;32m/usr/local/lib/python3.6/dist-packages/ipykernel/kernelbase.py\u001b[0m in \u001b[0;36m_input_request\u001b[0;34m(self, prompt, ident, parent, password)\u001b[0m\n\u001b[1;32m    728\u001b[0m             \u001b[0;32mtry\u001b[0m\u001b[0;34m:\u001b[0m\u001b[0;34m\u001b[0m\u001b[0;34m\u001b[0m\u001b[0m\n\u001b[0;32m--> 729\u001b[0;31m                 \u001b[0mident\u001b[0m\u001b[0;34m,\u001b[0m \u001b[0mreply\u001b[0m \u001b[0;34m=\u001b[0m \u001b[0mself\u001b[0m\u001b[0;34m.\u001b[0m\u001b[0msession\u001b[0m\u001b[0;34m.\u001b[0m\u001b[0mrecv\u001b[0m\u001b[0;34m(\u001b[0m\u001b[0mself\u001b[0m\u001b[0;34m.\u001b[0m\u001b[0mstdin_socket\u001b[0m\u001b[0;34m,\u001b[0m \u001b[0;36m0\u001b[0m\u001b[0;34m)\u001b[0m\u001b[0;34m\u001b[0m\u001b[0;34m\u001b[0m\u001b[0m\n\u001b[0m\u001b[1;32m    730\u001b[0m             \u001b[0;32mexcept\u001b[0m \u001b[0mException\u001b[0m\u001b[0;34m:\u001b[0m\u001b[0;34m\u001b[0m\u001b[0;34m\u001b[0m\u001b[0m\n",
            "\u001b[0;32m/usr/local/lib/python3.6/dist-packages/jupyter_client/session.py\u001b[0m in \u001b[0;36mrecv\u001b[0;34m(self, socket, mode, content, copy)\u001b[0m\n\u001b[1;32m    802\u001b[0m         \u001b[0;32mtry\u001b[0m\u001b[0;34m:\u001b[0m\u001b[0;34m\u001b[0m\u001b[0;34m\u001b[0m\u001b[0m\n\u001b[0;32m--> 803\u001b[0;31m             \u001b[0mmsg_list\u001b[0m \u001b[0;34m=\u001b[0m \u001b[0msocket\u001b[0m\u001b[0;34m.\u001b[0m\u001b[0mrecv_multipart\u001b[0m\u001b[0;34m(\u001b[0m\u001b[0mmode\u001b[0m\u001b[0;34m,\u001b[0m \u001b[0mcopy\u001b[0m\u001b[0;34m=\u001b[0m\u001b[0mcopy\u001b[0m\u001b[0;34m)\u001b[0m\u001b[0;34m\u001b[0m\u001b[0;34m\u001b[0m\u001b[0m\n\u001b[0m\u001b[1;32m    804\u001b[0m         \u001b[0;32mexcept\u001b[0m \u001b[0mzmq\u001b[0m\u001b[0;34m.\u001b[0m\u001b[0mZMQError\u001b[0m \u001b[0;32mas\u001b[0m \u001b[0me\u001b[0m\u001b[0;34m:\u001b[0m\u001b[0;34m\u001b[0m\u001b[0;34m\u001b[0m\u001b[0m\n",
            "\u001b[0;32m/usr/local/lib/python3.6/dist-packages/zmq/sugar/socket.py\u001b[0m in \u001b[0;36mrecv_multipart\u001b[0;34m(self, flags, copy, track)\u001b[0m\n\u001b[1;32m    490\u001b[0m         \"\"\"\n\u001b[0;32m--> 491\u001b[0;31m         \u001b[0mparts\u001b[0m \u001b[0;34m=\u001b[0m \u001b[0;34m[\u001b[0m\u001b[0mself\u001b[0m\u001b[0;34m.\u001b[0m\u001b[0mrecv\u001b[0m\u001b[0;34m(\u001b[0m\u001b[0mflags\u001b[0m\u001b[0;34m,\u001b[0m \u001b[0mcopy\u001b[0m\u001b[0;34m=\u001b[0m\u001b[0mcopy\u001b[0m\u001b[0;34m,\u001b[0m \u001b[0mtrack\u001b[0m\u001b[0;34m=\u001b[0m\u001b[0mtrack\u001b[0m\u001b[0;34m)\u001b[0m\u001b[0;34m]\u001b[0m\u001b[0;34m\u001b[0m\u001b[0;34m\u001b[0m\u001b[0m\n\u001b[0m\u001b[1;32m    492\u001b[0m         \u001b[0;31m# have first part already, only loop while more to receive\u001b[0m\u001b[0;34m\u001b[0m\u001b[0;34m\u001b[0m\u001b[0;34m\u001b[0m\u001b[0m\n",
            "\u001b[0;32mzmq/backend/cython/socket.pyx\u001b[0m in \u001b[0;36mzmq.backend.cython.socket.Socket.recv\u001b[0;34m()\u001b[0m\n",
            "\u001b[0;32mzmq/backend/cython/socket.pyx\u001b[0m in \u001b[0;36mzmq.backend.cython.socket.Socket.recv\u001b[0;34m()\u001b[0m\n",
            "\u001b[0;32mzmq/backend/cython/socket.pyx\u001b[0m in \u001b[0;36mzmq.backend.cython.socket._recv_copy\u001b[0;34m()\u001b[0m\n",
            "\u001b[0;32m/usr/local/lib/python3.6/dist-packages/zmq/backend/cython/checkrc.pxd\u001b[0m in \u001b[0;36mzmq.backend.cython.checkrc._check_rc\u001b[0;34m()\u001b[0m\n",
            "\u001b[0;31mKeyboardInterrupt\u001b[0m: ",
            "\nDuring handling of the above exception, another exception occurred:\n",
            "\u001b[0;31mKeyboardInterrupt\u001b[0m                         Traceback (most recent call last)",
            "\u001b[0;32m<ipython-input-107-746360539cb0>\u001b[0m in \u001b[0;36m<module>\u001b[0;34m()\u001b[0m\n\u001b[0;32m----> 1\u001b[0;31m \u001b[0mhumanGame\u001b[0m\u001b[0;34m(\u001b[0m\u001b[0;34m)\u001b[0m\u001b[0;34m\u001b[0m\u001b[0;34m\u001b[0m\u001b[0m\n\u001b[0m",
            "\u001b[0;32m<ipython-input-88-aa01de89a179>\u001b[0m in \u001b[0;36mhumanGame\u001b[0;34m()\u001b[0m\n\u001b[1;32m     10\u001b[0m \u001b[0;34m\u001b[0m\u001b[0m\n\u001b[1;32m     11\u001b[0m   \u001b[0;32mwhile\u001b[0m \u001b[0mcolorChoise\u001b[0m \u001b[0;34m!=\u001b[0m \u001b[0;36m1\u001b[0m \u001b[0;32mand\u001b[0m \u001b[0mcolorChoise\u001b[0m \u001b[0;34m!=\u001b[0m \u001b[0;36m2\u001b[0m\u001b[0;34m:\u001b[0m\u001b[0;34m\u001b[0m\u001b[0;34m\u001b[0m\u001b[0m\n\u001b[0;32m---> 12\u001b[0;31m     \u001b[0mcolorChoise\u001b[0m \u001b[0;34m=\u001b[0m \u001b[0mint\u001b[0m\u001b[0;34m(\u001b[0m\u001b[0minput\u001b[0m\u001b[0;34m(\u001b[0m\u001b[0;34m\"Quer jogar com qual cor de peças?\\n1) Azuis\\n2) Vermelhas\\n\"\u001b[0m\u001b[0;34m)\u001b[0m\u001b[0;34m)\u001b[0m\u001b[0;34m\u001b[0m\u001b[0;34m\u001b[0m\u001b[0m\n\u001b[0m\u001b[1;32m     13\u001b[0m     \u001b[0;32mif\u001b[0m \u001b[0mcolorChoise\u001b[0m \u001b[0;34m!=\u001b[0m \u001b[0;36m1\u001b[0m \u001b[0;32mand\u001b[0m \u001b[0mcolorChoise\u001b[0m \u001b[0;34m!=\u001b[0m \u001b[0;36m2\u001b[0m\u001b[0;34m:\u001b[0m\u001b[0;34m\u001b[0m\u001b[0;34m\u001b[0m\u001b[0m\n\u001b[1;32m     14\u001b[0m       \u001b[0mprint\u001b[0m\u001b[0;34m(\u001b[0m\u001b[0;34m\"Entrada inválida. Escolha uma entrada válida.\"\u001b[0m\u001b[0;34m)\u001b[0m\u001b[0;34m\u001b[0m\u001b[0;34m\u001b[0m\u001b[0m\n",
            "\u001b[0;32m/usr/local/lib/python3.6/dist-packages/ipykernel/kernelbase.py\u001b[0m in \u001b[0;36mraw_input\u001b[0;34m(self, prompt)\u001b[0m\n\u001b[1;32m    702\u001b[0m             \u001b[0mself\u001b[0m\u001b[0;34m.\u001b[0m\u001b[0m_parent_ident\u001b[0m\u001b[0;34m,\u001b[0m\u001b[0;34m\u001b[0m\u001b[0;34m\u001b[0m\u001b[0m\n\u001b[1;32m    703\u001b[0m             \u001b[0mself\u001b[0m\u001b[0;34m.\u001b[0m\u001b[0m_parent_header\u001b[0m\u001b[0;34m,\u001b[0m\u001b[0;34m\u001b[0m\u001b[0;34m\u001b[0m\u001b[0m\n\u001b[0;32m--> 704\u001b[0;31m             \u001b[0mpassword\u001b[0m\u001b[0;34m=\u001b[0m\u001b[0;32mFalse\u001b[0m\u001b[0;34m,\u001b[0m\u001b[0;34m\u001b[0m\u001b[0;34m\u001b[0m\u001b[0m\n\u001b[0m\u001b[1;32m    705\u001b[0m         )\n\u001b[1;32m    706\u001b[0m \u001b[0;34m\u001b[0m\u001b[0m\n",
            "\u001b[0;32m/usr/local/lib/python3.6/dist-packages/ipykernel/kernelbase.py\u001b[0m in \u001b[0;36m_input_request\u001b[0;34m(self, prompt, ident, parent, password)\u001b[0m\n\u001b[1;32m    732\u001b[0m             \u001b[0;32mexcept\u001b[0m \u001b[0mKeyboardInterrupt\u001b[0m\u001b[0;34m:\u001b[0m\u001b[0;34m\u001b[0m\u001b[0;34m\u001b[0m\u001b[0m\n\u001b[1;32m    733\u001b[0m                 \u001b[0;31m# re-raise KeyboardInterrupt, to truncate traceback\u001b[0m\u001b[0;34m\u001b[0m\u001b[0;34m\u001b[0m\u001b[0;34m\u001b[0m\u001b[0m\n\u001b[0;32m--> 734\u001b[0;31m                 \u001b[0;32mraise\u001b[0m \u001b[0mKeyboardInterrupt\u001b[0m\u001b[0;34m\u001b[0m\u001b[0;34m\u001b[0m\u001b[0m\n\u001b[0m\u001b[1;32m    735\u001b[0m             \u001b[0;32melse\u001b[0m\u001b[0;34m:\u001b[0m\u001b[0;34m\u001b[0m\u001b[0;34m\u001b[0m\u001b[0m\n\u001b[1;32m    736\u001b[0m                 \u001b[0;32mbreak\u001b[0m\u001b[0;34m\u001b[0m\u001b[0;34m\u001b[0m\u001b[0m\n",
            "\u001b[0;31mKeyboardInterrupt\u001b[0m: "
          ]
        }
      ]
    },
    {
      "cell_type": "markdown",
      "metadata": {
        "id": "EkOaP1Zvvgnp"
      },
      "source": [
        ""
      ]
    }
  ]
}