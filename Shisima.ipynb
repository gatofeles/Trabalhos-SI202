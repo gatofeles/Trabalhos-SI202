{
  "nbformat": 4,
  "nbformat_minor": 0,
  "metadata": {
    "colab": {
      "name": "Shisima.ipynb",
      "provenance": [],
      "collapsed_sections": [],
      "authorship_tag": "ABX9TyOTEJkqaEgglsb15puZy13j",
      "include_colab_link": true
    },
    "kernelspec": {
      "name": "python3",
      "display_name": "Python 3"
    }
  },
  "cells": [
    {
      "cell_type": "markdown",
      "metadata": {
        "id": "view-in-github",
        "colab_type": "text"
      },
      "source": [
        "<a href=\"https://colab.research.google.com/github/gatofeles/Trabalhos-SI202/blob/master/Shisima.ipynb\" target=\"_parent\"><img src=\"https://colab.research.google.com/assets/colab-badge.svg\" alt=\"Open In Colab\"/></a>"
      ]
    },
    {
      "cell_type": "code",
      "metadata": {
        "id": "6gU1OVVc3B79",
        "outputId": "3a4581bb-57e9-4b9a-f0c8-8b36dd72cb13",
        "colab": {
          "base_uri": "https://localhost:8080/",
          "height": 187
        }
      },
      "source": [
        "import os\n",
        "!git clone https://github.com/ntasfi/PyGame-Learning-Environment.git\n",
        "os.chdir('PyGame-Learning-Environment')\n",
        "!pip install -e .\n",
        "!pip install pygame\n",
        "os.chdir('/content')\n",
        "os.environ['SDL_VIDEODRIVER']='dummy'"
      ],
      "execution_count": 8,
      "outputs": [
        {
          "output_type": "stream",
          "text": [
            "fatal: destination path 'PyGame-Learning-Environment' already exists and is not an empty directory.\n",
            "Obtaining file:///content/PyGame-Learning-Environment\n",
            "Requirement already satisfied: numpy in /usr/local/lib/python3.6/dist-packages (from ple==0.0.1) (1.18.5)\n",
            "Requirement already satisfied: Pillow in /usr/local/lib/python3.6/dist-packages (from ple==0.0.1) (7.0.0)\n",
            "Installing collected packages: ple\n",
            "  Found existing installation: ple 0.0.1\n",
            "    Can't uninstall 'ple'. No files were found to uninstall.\n",
            "  Running setup.py develop for ple\n",
            "Successfully installed ple\n",
            "Requirement already satisfied: pygame in /usr/local/lib/python3.6/dist-packages (1.9.6)\n"
          ],
          "name": "stdout"
        }
      ]
    },
    {
      "cell_type": "code",
      "metadata": {
        "id": "Op520Y993gVl"
      },
      "source": [
        "import pygame\n",
        "import sys"
      ],
      "execution_count": 15,
      "outputs": []
    },
    {
      "cell_type": "code",
      "metadata": {
        "id": "jvtF9LRf3u5f",
        "outputId": "e514ec7d-5cf4-4916-d0b6-f69d553a1028",
        "colab": {
          "base_uri": "https://localhost:8080/",
          "height": 231
        }
      },
      "source": [
        "import pygame\n",
        "pygame.init()\n",
        "\n",
        "tela = pygame.display.set_mode((1000,1000))\n",
        "\n",
        "#Parâmetros do Jogo\n",
        "icone = pygame.image.load(\"hexa.png\")\n",
        "titulo = \"Ultimate Shisima\"\n",
        "x = 50\n",
        "y = 50\n",
        "width = 40\n",
        "height = 60\n",
        "vel = 5\n",
        "#Título da tela \n",
        "pygame.display.set_caption(titulo)\n",
        "pygame.display.set_icon(icone)\n",
        "\n",
        "\n",
        "#######Peças\n",
        "class Pecas:\n",
        "\n",
        "    def __init__(self, posicaox, posicaoy, model, selecionada):\n",
        "\n",
        "        self.x = posicaox\n",
        "        self.y = posicaoy\n",
        "        self.tipo = model\n",
        "        self.sel = selecionada\n",
        "\n",
        "class Posicao:\n",
        "    def __init__(self, px, py):\n",
        "        self.x = px\n",
        "        self.y = py\n",
        "\n",
        "\n",
        "\n",
        "comaBlue = pygame.image.load(\"aComa.png\")\n",
        "comaBrown = pygame.image.load(\"colorComa.png\")\n",
        "\n",
        "\n",
        "\n",
        "\n",
        "#Tabuleiro\n",
        "tabuleiro = pygame.image.load(\"guardaC.png\")\n",
        "background = pygame.image.load(\"ladrino.png\")\n",
        "\n",
        "surf = pygame.transform.rotate(tabuleiro, 20)\n",
        "def tabul():\n",
        "    tela.blit(surf, (130, 150))\n",
        "\n",
        "def backg():\n",
        "    tela.blit(pygame.transform.scale(background, (1000, 1000)), (0, 0))\n",
        "\n",
        "def PecaO(peca):\n",
        "    tela.blit(peca.tipo, (peca.x, peca.y))\n",
        "\n",
        "\n",
        "\n",
        "#Posições no tabuleiro\n",
        "centerUP = Posicao(490, 190)\n",
        "topRight = Posicao(700, 290)\n",
        "leftRight = Posicao(270, 270)\n",
        "left = Posicao(180, 480)\n",
        "right = Posicao(780, 510)\n",
        "downRight = Posicao(680, 720)\n",
        "downLeft = Posicao(250, 700)\n",
        "centerDown = Posicao(470, 790)\n",
        "\n",
        "#Pecas no Tabuleiro\n",
        "p1p1 = Pecas(centerUP.x,centerUP.y,comaBrown, False)\n",
        "p1p2 = Pecas(topRight.x,centerUP.y,comaBrown, False)\n",
        "\n",
        "#Looping principal do Jogo\n",
        "while True:\n",
        "    pygame.time.delay(100)\n",
        "    tela.fill((250, 250, 250))\n",
        "    backg()\n",
        "    tabul()\n",
        "    PecaO(p1p1)\n",
        "\n",
        "\n",
        "    for event in pygame.event.get():\n",
        "        if event.type == pygame.QUIT:\n",
        "            pygame.quit()\n",
        "            quit()\n",
        "        if event.type == pygame.KEYDOWN:\n",
        "           if event.key == pygame.K_LEFT:\n",
        "               p1p1.x -= 10\n",
        "               print(\"posição X:\"+str(p1p1.x)+\"posição y:\"+str(p1p1.y))\n",
        "           if event.key == pygame.K_RIGHT:\n",
        "               p1p1.x += 10\n",
        "               print(\"posição X:\" + str(p1p1.x) + \"posição y:\" + str(p1p1.y))\n",
        "           if event.key == pygame.K_UP:\n",
        "                   p1p1.y -= 10\n",
        "                   print(\"posição X:\" + str(p1p1.x) + \"posição y:\" + str(p1p1.y))\n",
        "           if event.key == pygame.K_DOWN:\n",
        "                   p1p1.y += 10\n",
        "                   print(\"posição X:\" + str(p1p1.x) + \"posição y:\" + str(p1p1.y))\n",
        "\n",
        "\n",
        "    pygame.display.update()\n",
        "\n"
      ],
      "execution_count": 17,
      "outputs": [
        {
          "output_type": "error",
          "ename": "KeyboardInterrupt",
          "evalue": "ignored",
          "traceback": [
            "\u001b[0;31m---------------------------------------------------------------------------\u001b[0m",
            "\u001b[0;31mKeyboardInterrupt\u001b[0m                         Traceback (most recent call last)",
            "\u001b[0;32m<ipython-input-17-738d548c95f6>\u001b[0m in \u001b[0;36m<module>\u001b[0;34m()\u001b[0m\n\u001b[1;32m     72\u001b[0m \u001b[0;31m#Looping principal do Jogo\u001b[0m\u001b[0;34m\u001b[0m\u001b[0;34m\u001b[0m\u001b[0;34m\u001b[0m\u001b[0m\n\u001b[1;32m     73\u001b[0m \u001b[0;32mwhile\u001b[0m \u001b[0;32mTrue\u001b[0m\u001b[0;34m:\u001b[0m\u001b[0;34m\u001b[0m\u001b[0;34m\u001b[0m\u001b[0m\n\u001b[0;32m---> 74\u001b[0;31m     \u001b[0mpygame\u001b[0m\u001b[0;34m.\u001b[0m\u001b[0mtime\u001b[0m\u001b[0;34m.\u001b[0m\u001b[0mdelay\u001b[0m\u001b[0;34m(\u001b[0m\u001b[0;36m100\u001b[0m\u001b[0;34m)\u001b[0m\u001b[0;34m\u001b[0m\u001b[0;34m\u001b[0m\u001b[0m\n\u001b[0m\u001b[1;32m     75\u001b[0m     \u001b[0mtela\u001b[0m\u001b[0;34m.\u001b[0m\u001b[0mfill\u001b[0m\u001b[0;34m(\u001b[0m\u001b[0;34m(\u001b[0m\u001b[0;36m250\u001b[0m\u001b[0;34m,\u001b[0m \u001b[0;36m250\u001b[0m\u001b[0;34m,\u001b[0m \u001b[0;36m250\u001b[0m\u001b[0;34m)\u001b[0m\u001b[0;34m)\u001b[0m\u001b[0;34m\u001b[0m\u001b[0;34m\u001b[0m\u001b[0m\n\u001b[1;32m     76\u001b[0m     \u001b[0mbackg\u001b[0m\u001b[0;34m(\u001b[0m\u001b[0;34m)\u001b[0m\u001b[0;34m\u001b[0m\u001b[0;34m\u001b[0m\u001b[0m\n",
            "\u001b[0;31mKeyboardInterrupt\u001b[0m: "
          ]
        }
      ]
    }
  ]
}