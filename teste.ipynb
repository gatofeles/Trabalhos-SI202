{
  "nbformat": 4,
  "nbformat_minor": 0,
  "metadata": {
    "colab": {
      "name": "Untitled0.ipynb",
      "provenance": [],
      "authorship_tag": "ABX9TyO3/JnCaa6EzkMF6AooJV2f",
      "include_colab_link": true
    },
    "kernelspec": {
      "name": "python3",
      "display_name": "Python 3"
    }
  },
  "cells": [
    {
      "cell_type": "markdown",
      "metadata": {
        "id": "view-in-github",
        "colab_type": "text"
      },
      "source": [
        "<a href=\"https://colab.research.google.com/github/gatofeles/Trabalhos-SI202/blob/Projeto-1/teste.ipynb\" target=\"_parent\"><img src=\"https://colab.research.google.com/assets/colab-badge.svg\" alt=\"Open In Colab\"/></a>"
      ]
    },
    {
      "cell_type": "code",
      "metadata": {
        "id": "8n-uFe8ROtYs",
        "colab_type": "code",
        "colab": {
          "base_uri": "https://localhost:8080/",
          "height": 85
        },
        "outputId": "ae5b7089-fd6a-4ca1-bd12-692aa8d8de55"
      },
      "source": [
        "#Teste \n",
        "\n",
        "lista = [1, \"arm lock\", 2, \"Sidekick\"]\n",
        "\n",
        "for i in lista:\n",
        "  print(i)"
      ],
      "execution_count": 2,
      "outputs": [
        {
          "output_type": "stream",
          "text": [
            "1\n",
            "arm lock\n",
            "2\n",
            "Sidekick\n"
          ],
          "name": "stdout"
        }
      ]
    }
  ]
}